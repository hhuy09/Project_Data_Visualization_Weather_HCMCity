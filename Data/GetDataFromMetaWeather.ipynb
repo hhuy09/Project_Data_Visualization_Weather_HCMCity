{
 "cells": [
  {
   "cell_type": "code",
   "execution_count": 1,
   "metadata": {},
   "outputs": [],
   "source": [
    "import requests\n",
    "import json\n",
    "import csv\n",
    "import pandas as pd"
   ]
  },
  {
   "cell_type": "code",
   "execution_count": 2,
   "metadata": {},
   "outputs": [],
   "source": [
    "date_list = pd.date_range(start = '2016/01/01', end = '2020/12/31').strftime('%Y/%m/%d').tolist()"
   ]
  },
  {
   "cell_type": "code",
   "execution_count": 3,
   "metadata": {
    "scrolled": true
   },
   "outputs": [],
   "source": [
    "list_records = []\n",
    "for i in range(len(date_list)):\n",
    "    url = f'https://www.metaweather.com/api/location/1252431/{date_list[i]}/'\n",
    "    data = requests.get(url)\n",
    "    weather = json.loads(data.text)\n",
    "    list_records.append(weather[0])"
   ]
  },
  {
   "cell_type": "code",
   "execution_count": 4,
   "metadata": {},
   "outputs": [],
   "source": [
    "with open('weather.csv', mode='w') as csv_file:\n",
    "    writer = csv.DictWriter(csv_file, fieldnames=list_records[0].keys())\n",
    "    \n",
    "    writer.writeheader()\n",
    "    for record in list_records:\n",
    "        writer.writerow(record)"
   ]
  }
 ],
 "metadata": {
  "kernelspec": {
   "display_name": "Python 3",
   "language": "python",
   "name": "python3"
  },
  "language_info": {
   "codemirror_mode": {
    "name": "ipython",
    "version": 3
   },
   "file_extension": ".py",
   "mimetype": "text/x-python",
   "name": "python",
   "nbconvert_exporter": "python",
   "pygments_lexer": "ipython3",
   "version": "3.8.5"
  }
 },
 "nbformat": 4,
 "nbformat_minor": 5
}
